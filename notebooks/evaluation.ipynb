{
 "cells": [
  {
   "cell_type": "code",
   "execution_count": 1,
   "metadata": {},
   "outputs": [],
   "source": [
    "import numpy as np\n",
    "import pandas as pd\n",
    "import sklearn.metrics as sk\n",
    "import matplotlib.pyplot as plt"
   ]
  },
  {
   "cell_type": "code",
   "execution_count": 2,
   "metadata": {},
   "outputs": [
    {
     "data": {
      "text/plain": [
       "array([0.2 , 0.25, 0.3 , 0.35, 0.4 , 0.45, 0.5 , 0.55, 0.6 , 0.65])"
      ]
     },
     "execution_count": 2,
     "metadata": {},
     "output_type": "execute_result"
    }
   ],
   "source": [
    "thresholds = np.arange(start=0.2, stop=0.7, step=0.05)\n",
    "thresholds"
   ]
  },
  {
   "cell_type": "code",
   "execution_count": null,
   "metadata": {},
   "outputs": [],
   "source": [
    "def precision_recall_curve(y_true, pred_scores, thresholds):\n",
    "    precisions = []\n",
    "    recalls = []\n",
    "    \n",
    "    for threshold in thresholds:\n",
    "        y_pred = [\"positive\" if score >= threshold else \"negative\" for score in pred_scores]\n",
    "\n",
    "        precision = sk.precision_score(y_true=y_true, y_pred=y_pred, pos_label=\"positive\")\n",
    "        recall = sk.recall_score(y_true=y_true, y_pred=y_pred, pos_label=\"positive\")\n",
    "        \n",
    "        precisions.append(precision)\n",
    "        recalls.append(recall)\n",
    "\n",
    "    return precisions, recalls\n",
    "\n",
    "precisions, recalls = precision_recall_curve(y_true=y_true, pred_scores=pred_scores,thresholds=thresholds)"
   ]
  },
  {
   "cell_type": "code",
   "execution_count": null,
   "metadata": {},
   "outputs": [],
   "source": [
    "# Plot the results\n",
    "plt.plot(recalls, precisions, linewidth=4, color=\"red\")\n",
    "plt.xlabel(\"Recall\", fontsize=12, fontweight='bold')\n",
    "plt.ylabel(\"Precision\", fontsize=12, fontweight='bold')\n",
    "plt.title(\"Precision-Recall Curve\", fontsize=15, fontweight=\"bold\")\n",
    "plt.show()"
   ]
  },
  {
   "cell_type": "markdown",
   "metadata": {},
   "source": [
    "Note that as the recall increases, the precision decreases. The reason is that when the number of positive samples increases (high recall), the accuracy of classifying each sample correctly decreases (low precision)"
   ]
  },
  {
   "cell_type": "code",
   "execution_count": null,
   "metadata": {},
   "outputs": [],
   "source": [
    "f1 = 2 * ((np.array(precisions) * np.array(recalls)) / (np.array(precisions) + np.array(recalls)))"
   ]
  },
  {
   "cell_type": "code",
   "execution_count": null,
   "metadata": {},
   "outputs": [],
   "source": [
    "plt.plot(recalls, precisions, linewidth=4, color=\"red\", zorder=0)\n",
    "plt.scatter(recalls[5], precisions[5], zorder=1, linewidth=6)\n",
    "\n",
    "plt.xlabel(\"Recall\", fontsize=12, fontweight='bold')\n",
    "plt.ylabel(\"Precision\", fontsize=12, fontweight='bold')\n",
    "plt.title(\"Precision-Recall Curve\", fontsize=15, fontweight=\"bold\")\n",
    "plt.show()"
   ]
  },
  {
   "cell_type": "code",
   "execution_count": null,
   "metadata": {},
   "outputs": [],
   "source": [
    "precisions.append(1)\n",
    "recalls.append(0)\n",
    "\n",
    "precisions = np.array(precisions)\n",
    "recalls = np.array(recalls)\n",
    "\n",
    "AP = np.sum((recalls[:-1] - recalls[1:]) * precisions[:-1])\n",
    "print(AP)"
   ]
  },
  {
   "cell_type": "markdown",
   "metadata": {},
   "source": [
    "### AVERAGE PRECISION\n",
    "\n",
    "1. Generate the prediction scores using the model.\n",
    "2. Convert the prediction scores to class labels.\n",
    "3. Calculate the confusion matrix.\n",
    "4. Calculate the precision and recall metrics.\n",
    "5. Create the precision-recall curve.\n",
    "6. Measure the average precision."
   ]
  }
 ],
 "metadata": {
  "interpreter": {
   "hash": "57af45b09e3be0bab36e391cfa135cf361920298c24a43e04b4cda6c4642d8a0"
  },
  "kernelspec": {
   "display_name": "Python 3.9.12 ('Thesis')",
   "language": "python",
   "name": "python3"
  },
  "language_info": {
   "codemirror_mode": {
    "name": "ipython",
    "version": 3
   },
   "file_extension": ".py",
   "mimetype": "text/x-python",
   "name": "python",
   "nbconvert_exporter": "python",
   "pygments_lexer": "ipython3",
   "version": "3.9.12"
  },
  "orig_nbformat": 4
 },
 "nbformat": 4,
 "nbformat_minor": 2
}
